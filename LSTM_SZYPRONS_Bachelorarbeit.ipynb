{
 "cells": [
  {
   "cell_type": "markdown",
   "id": "739ac287-4bc4-48ef-a38b-d755ad7e4c99",
   "metadata": {},
   "source": [
    "<h1> Optimierung der Einsatzplanung im Rettungsdienst durch die Anwendung von Deep Learning-Modellen zur Zeitreihenprognose </h1>\n",
    "<p>Bachelorarbeit zur Erlangung des Bachelor-Grades<br>\n",
    "Bachelor of Science im Studiengang Data and Information Science<br>\n",
    "an der Fakultät für Informations- und Kommunikationswissenschaften<br>\n",
    "der Technischen Hochschule Köln</p>\n",
    "\n",
    "<p>\n",
    "    <b>vorgelegt von:</b> Annemarie Szyprons<br>\n",
    "    <b>Matrikel-Nr.:</b> 11141379<br>\n",
    "    <b>eingereicht bei:</b> Prof. Dr. Gernot Heisenberg und Dr. Frederik Schütte\n",
    "</p>\n",
    "\n",
    "Köln, 14.03.2024"
   ]
  },
  {
   "cell_type": "markdown",
   "id": "992d3260-7e2d-484f-b56a-fe188abaac03",
   "metadata": {},
   "source": [
    "<h2>Aufbau der Test- und Trainingsumgebung</h2>\n",
    "<p>Im Folgenden wird die Test- und Trainingsumgebung aufgebaut. Zunächst werden die Daten eingelesen und aufbereitet. Sie werden normalisiert und in eine dreidimensionale Form umcodiert, sodass sie als überwachtes Lernproblem für das LSTM-Modell genutzt werden können.</p>"
   ]
  },
  {
   "cell_type": "code",
   "execution_count": 1,
   "id": "c5d32db2-0ba5-45a9-bdce-05ea85bac1c9",
   "metadata": {},
   "outputs": [],
   "source": [
    "# load dependencies\n",
    "import numpy as np\n",
    "from numpy import concatenate\n",
    "\n",
    "import tensorflow as tf\n",
    "from tensorflow import keras\n",
    "\n",
    "import pandas as pd\n",
    "from pandas import read_csv\n",
    "from pandas import DataFrame\n",
    "from pandas import concat\n",
    "\n",
    "import seaborn as sns\n",
    "\n",
    "import matplotlib.pyplot as plt\n",
    "from matplotlib import pyplot\n",
    "import matplotlib.pyplot as plt\n",
    "\n",
    "from sklearn.preprocessing import MinMaxScaler\n",
    "from sklearn.preprocessing import LabelEncoder\n",
    "from sklearn.metrics import mean_squared_error, mean_absolute_error, mean_absolute_percentage_error\n",
    "from math import sqrt\n",
    "\n",
    "from keras.models import Sequential\n",
    "from keras.layers import Dense\n",
    "from tensorflow.keras.layers import Dropout\n",
    "from keras.layers import LSTM\n",
    "from keras.optimizers import Adam\n",
    "\n",
    "from math import sqrt\n",
    "\n",
    "sns.set(style='whitegrid', palette='muted', font_scale=1.5)\n",
    "\n",
    "RANDOM_SEED = 42\n",
    "\n",
    "np.random.seed(RANDOM_SEED)\n",
    "tf.random.set_seed(RANDOM_SEED)"
   ]
  },
  {
   "cell_type": "markdown",
   "id": "04bacf66-381c-42de-a34f-a9883959d62c",
   "metadata": {},
   "source": [
    "<h2>Vorbereitung der Daten</h2>"
   ]
  },
  {
   "cell_type": "code",
   "execution_count": 2,
   "id": "242e7ca1-42f1-4ed0-b0d1-327a7ae5b8c3",
   "metadata": {},
   "outputs": [
    {
     "data": {
      "text/html": [
       "<div>\n",
       "<style scoped>\n",
       "    .dataframe tbody tr th:only-of-type {\n",
       "        vertical-align: middle;\n",
       "    }\n",
       "\n",
       "    .dataframe tbody tr th {\n",
       "        vertical-align: top;\n",
       "    }\n",
       "\n",
       "    .dataframe thead th {\n",
       "        text-align: right;\n",
       "    }\n",
       "</style>\n",
       "<table border=\"1\" class=\"dataframe\">\n",
       "  <thead>\n",
       "    <tr style=\"text-align: right;\">\n",
       "      <th></th>\n",
       "      <th>ZEIT</th>\n",
       "      <th>Anzahl</th>\n",
       "      <th>MONAT</th>\n",
       "      <th>STUNDE</th>\n",
       "      <th>WOCHENTAG</th>\n",
       "      <th>b_Feiertag</th>\n",
       "    </tr>\n",
       "  </thead>\n",
       "  <tbody>\n",
       "    <tr>\n",
       "      <th>46700</th>\n",
       "      <td>2023-04-30 20:00:00</td>\n",
       "      <td>2</td>\n",
       "      <td>4</td>\n",
       "      <td>20</td>\n",
       "      <td>7</td>\n",
       "      <td>0</td>\n",
       "    </tr>\n",
       "    <tr>\n",
       "      <th>46701</th>\n",
       "      <td>2023-04-30 21:00:00</td>\n",
       "      <td>0</td>\n",
       "      <td>4</td>\n",
       "      <td>21</td>\n",
       "      <td>7</td>\n",
       "      <td>0</td>\n",
       "    </tr>\n",
       "    <tr>\n",
       "      <th>46702</th>\n",
       "      <td>2023-04-30 22:00:00</td>\n",
       "      <td>1</td>\n",
       "      <td>4</td>\n",
       "      <td>22</td>\n",
       "      <td>7</td>\n",
       "      <td>0</td>\n",
       "    </tr>\n",
       "    <tr>\n",
       "      <th>46703</th>\n",
       "      <td>2023-04-30 23:00:00</td>\n",
       "      <td>3</td>\n",
       "      <td>4</td>\n",
       "      <td>23</td>\n",
       "      <td>7</td>\n",
       "      <td>0</td>\n",
       "    </tr>\n",
       "    <tr>\n",
       "      <th>46704</th>\n",
       "      <td>2023-05-01 00:00:00</td>\n",
       "      <td>0</td>\n",
       "      <td>5</td>\n",
       "      <td>0</td>\n",
       "      <td>7</td>\n",
       "      <td>1</td>\n",
       "    </tr>\n",
       "  </tbody>\n",
       "</table>\n",
       "</div>"
      ],
      "text/plain": [
       "                      ZEIT  Anzahl  MONAT  STUNDE  WOCHENTAG  b_Feiertag\n",
       "46700  2023-04-30 20:00:00       2      4      20          7           0\n",
       "46701  2023-04-30 21:00:00       0      4      21          7           0\n",
       "46702  2023-04-30 22:00:00       1      4      22          7           0\n",
       "46703  2023-04-30 23:00:00       3      4      23          7           0\n",
       "46704  2023-05-01 00:00:00       0      5       0          7           1"
      ]
     },
     "execution_count": 2,
     "metadata": {},
     "output_type": "execute_result"
    }
   ],
   "source": [
    "dataset = pd.read_csv('Einsatzzeitreihe_Notfallrettung_LSTM.csv', decimal=',', sep=';') # load dataset\n",
    "dataset.tail()"
   ]
  },
  {
   "cell_type": "code",
   "execution_count": 3,
   "id": "91af5b1b-729b-472c-8f5a-de31cf48d16a",
   "metadata": {},
   "outputs": [],
   "source": [
    "dataset['ZEIT'] = pd.to_datetime(dataset['ZEIT']) \n",
    "dataset = dataset.loc[(dataset['ZEIT'] < '2023-05-01 00:00:00')] # remove 01.05.2023 from data\n",
    "\n",
    "test_size = dataset.loc[(dataset['ZEIT'] >= '2022-01-01 00:00:00')] # filter test data from 2022-01-01\n",
    "test_size = len(test_size) # length\n",
    "\n",
    "dataset = dataset.set_index('ZEIT') # set timestamps as index"
   ]
  },
  {
   "cell_type": "code",
   "execution_count": 4,
   "id": "0f5c96c5-2338-4993-a291-caa7db7d81b0",
   "metadata": {},
   "outputs": [],
   "source": [
    "dataset = dataset.drop(columns=['b_Feiertag']) # columns will not be used in model\n",
    "dataset = dataset.reindex(columns=['Anzahl', 'STUNDE', 'WOCHENTAG', 'MONAT'])\n",
    "\n",
    "# univariate timeseries\n",
    "#dataset = dataset.drop(columns=['b_Feiertag', 'STUNDE', 'WOCHENTAG', 'MONAT']) # drop columns for univariate timeseries\n",
    "#dataset = dataset.reindex(columns=['Anzahl'])"
   ]
  },
  {
   "cell_type": "code",
   "execution_count": 5,
   "id": "f597ea7f-223d-426f-b55e-1e958d62eea8",
   "metadata": {},
   "outputs": [
    {
     "data": {
      "image/png": "[encoded data removed]",
      "text/plain": [
       "<Figure size 1500x500 with 1 Axes>"
      ]
     },
     "metadata": {},
     "output_type": "display_data"
    }
   ],
   "source": [
    "# plot emergency demand as time series\n",
    "days_to_print = 24 * 7\n",
    "\n",
    "plt.figure(figsize=(15,5))\n",
    "plt.plot(dataset['Anzahl'][:days_to_print], label='Einsätze', color='C6')\n",
    "plt.xlabel(\"Zeitreihe\", fontname=\"Arial\", fontsize=12)\n",
    "plt.ylabel(\"Absolutes Notfalleinsatzaufkommen\", fontname=\"Arial\", fontsize=12)\n",
    "plt.yticks(fontname = \"Arial\", fontsize=12)\n",
    "plt.xticks(fontname = \"Arial\", fontsize=12)\n",
    "plt.grid(axis='both', which='major', linestyle='-')\n",
    "plt.legend();"
   ]
  },
  {
   "cell_type": "code",
   "execution_count": 6,
   "id": "2ffb9674-cd69-4a69-a1b6-458244ebd477",
   "metadata": {},
   "outputs": [
    {
     "name": "stdout",
     "output_type": "stream",
     "text": [
      "(35064, 4) (11640, 4)\n"
     ]
    }
   ],
   "source": [
    "train_size = len(dataset) - test_size\n",
    "train, test = dataset.iloc[0:train_size], dataset.iloc[train_size:len(dataset)] # split test and train data\n",
    "print(train.shape, test.shape)"
   ]
  },
  {
   "cell_type": "markdown",
   "id": "b2d2bca1-f77a-4f22-9f9f-18ee7e464cf0",
   "metadata": {},
   "source": [
    "<p>Normalisieren der Daten mittels MinMaxScaler, um die Daten in einen gemeinsamen Wertebereich im Intervall [0, 1] zu transformieren.</p>"
   ]
  },
  {
   "cell_type": "code",
   "execution_count": 7,
   "id": "9920d83c-7684-418e-a7e0-262a1bbf3b49",
   "metadata": {},
   "outputs": [],
   "source": [
    "# normalize data\n",
    "scaler = MinMaxScaler()\n",
    "scaler = scaler.fit(train)\n",
    "\n",
    "train_scaled = scaler.transform(train)\n",
    "test_scaled = scaler.transform(test)"
   ]
  },
  {
   "cell_type": "markdown",
   "id": "7340bcd8-2ebc-4c8e-a7a8-29775682fa08",
   "metadata": {},
   "source": [
    "<p>Umwandlung in ein überwachtes Lernproblem zu einer Zeitreihe t-1, t-2, ..., t-n als Eingabevektor. </p>"
   ]
  },
  {
   "cell_type": "code",
   "execution_count": 8,
   "id": "804cb2e0-2993-4cf8-a3ef-9e615af48545",
   "metadata": {},
   "outputs": [],
   "source": [
    "# convert series to supervised learning (sliding window)\n",
    "def series_to_supervised(data, n_in=1, n_out=1, dropnan=True):\n",
    "\tn_vars = 1 if type(data) is list else data.shape[1]\n",
    "\tdf = DataFrame(data)\n",
    "\tcols, names = list(), list()\n",
    "\t\n",
    "    # input sequence (t-n, ... t-1)\n",
    "\tfor i in range(n_in, 0, -1):\n",
    "\t\tcols.append(df.shift(i))\n",
    "\t\tnames += [('var%d(t-%d)' % (j+1, i)) for j in range(n_vars)]\n",
    "\t\n",
    "    # forecast sequence (t, t+1, ... t+n)\n",
    "\tfor i in range(0, n_out):\n",
    "\t\tcols.append(df.shift(-i))\n",
    "\t\tif i == 0:\n",
    "\t\t\tnames += [('var%d(t)' % (j+1)) for j in range(n_vars)]\n",
    "\t\telse:\n",
    "\t\t\tnames += [('var%d(t+%d)' % (j+1, i)) for j in range(n_vars)]\n",
    "\t\n",
    "    # put it all together\n",
    "\tagg = concat(cols, axis=1)\n",
    "\tagg.columns = names\n",
    "\t\n",
    "    # drop rows with NaN values\n",
    "\tif dropnan:\n",
    "\t\tagg.dropna(inplace=True)\n",
    "\treturn agg"
   ]
  },
  {
   "cell_type": "code",
   "execution_count": 9,
   "id": "8559349b-9fb6-4acd-af78-a560befc5409",
   "metadata": {
    "scrolled": true
   },
   "outputs": [],
   "source": [
    "# frame as supervised learning\n",
    "n_hours = 12 # hours to look back to convert series to supervised learning (sliding window)\n",
    "n_features = 4\n",
    "\n",
    "train_reframed = series_to_supervised(data=train_scaled, n_in=n_hours, n_out=1) \n",
    "test_reframed = series_to_supervised(data=test_scaled, n_in=n_hours, n_out=1) "
   ]
  },
  {
   "cell_type": "code",
   "execution_count": 10,
   "id": "f7dd7c4c-6268-44db-b591-d4a748ca88f6",
   "metadata": {},
   "outputs": [
    {
     "name": "stdout",
     "output_type": "stream",
     "text": [
      "(35052, 12, 4) (35052,) (11628, 12, 4) (11628,)\n"
     ]
    }
   ],
   "source": [
    "# split into train and test sets\n",
    "train_reframed = train_reframed.values\n",
    "test_reframed = test_reframed.values\n",
    "\n",
    "# split into input and outputs\n",
    "n_obs = n_hours * n_features\n",
    "X_train, y_train = train_reframed[:, :n_obs], train_reframed[:, -n_features]\n",
    "X_test, y_test = test_reframed[:, :n_obs], test_reframed[:, -n_features]\n",
    "\n",
    "# reshape input to be 3D [samples, timesteps, features]\n",
    "X_train = X_train.reshape((X_train.shape[0], n_hours, n_features))\n",
    "X_test = X_test.reshape((X_test.shape[0], n_hours, n_features))\n",
    "print(X_train.shape, y_train.shape, X_test.shape, y_test.shape)"
   ]
  },
  {
   "cell_type": "markdown",
   "id": "06d41224-d38f-4c77-bcff-1c63f478503f",
   "metadata": {},
   "source": [
    "<h3>Modell-Definition</h3>"
   ]
  },
  {
   "cell_type": "code",
   "execution_count": 11,
   "id": "d5c55b71-375c-481f-8d81-edd708e17d9b",
   "metadata": {},
   "outputs": [],
   "source": [
    "# define network\n",
    "model = Sequential()\n",
    "model.add(LSTM(128, input_shape=(X_train.shape[1], X_train.shape[2]), return_sequences=False))\n",
    "model.add(Dropout(0.1))\n",
    "model.add(Dense(1))"
   ]
  },
  {
   "cell_type": "code",
   "execution_count": 12,
   "id": "0f3e3e64-2370-4cc0-83a7-67967f837891",
   "metadata": {},
   "outputs": [],
   "source": [
    "# compile network\n",
    "model.compile(loss='mean_squared_error', optimizer=Adam(learning_rate=0.001), metrics=['mean_absolute_error'])"
   ]
  },
  {
   "cell_type": "markdown",
   "id": "4eaa4e24-aef9-403a-ae41-df70986598c5",
   "metadata": {},
   "source": [
    "<h3>Modell Training</h3>"
   ]
  },
  {
   "cell_type": "code",
   "execution_count": null,
   "id": "406e5c7d-3c6a-43c9-9ff5-895df93d231c",
   "metadata": {
    "scrolled": true
   },
   "outputs": [
    {
     "name": "stdout",
     "output_type": "stream",
     "text": [
      "Epoch 1/15\n",
      "731/731 [==============================] - 91s 116ms/step - loss: 0.0165 - mean_absolute_error: 0.1017 - val_loss: 0.0168 - val_mean_absolute_error: 0.1056\n",
      "Epoch 2/15\n",
      "731/731 [==============================] - 29s 40ms/step - loss: 0.0159 - mean_absolute_error: 0.0997 - val_loss: 0.0171 - val_mean_absolute_error: 0.1024\n",
      "Epoch 3/15\n",
      "731/731 [==============================] - 28s 39ms/step - loss: 0.0158 - mean_absolute_error: 0.0993 - val_loss: 0.0168 - val_mean_absolute_error: 0.1020\n",
      "Epoch 4/15\n",
      "731/731 [==============================] - 25s 35ms/step - loss: 0.0158 - mean_absolute_error: 0.0992 - val_loss: 0.0169 - val_mean_absolute_error: 0.1027\n",
      "Epoch 5/15\n",
      "731/731 [==============================] - 51s 70ms/step - loss: 0.0157 - mean_absolute_error: 0.0993 - val_loss: 0.0168 - val_mean_absolute_error: 0.1018\n",
      "Epoch 6/15\n",
      "731/731 [==============================] - 14s 20ms/step - loss: 0.0157 - mean_absolute_error: 0.0993 - val_loss: 0.0169 - val_mean_absolute_error: 0.1021\n",
      "Epoch 7/15\n",
      "731/731 [==============================] - 61s 83ms/step - loss: 0.0157 - mean_absolute_error: 0.0993 - val_loss: 0.0167 - val_mean_absolute_error: 0.1050\n",
      "Epoch 8/15\n",
      "731/731 [==============================] - 26s 35ms/step - loss: 0.0157 - mean_absolute_error: 0.0993 - val_loss: 0.0167 - val_mean_absolute_error: 0.1022\n",
      "Epoch 9/15\n",
      "731/731 [==============================] - 24s 33ms/step - loss: 0.0157 - mean_absolute_error: 0.0993 - val_loss: 0.0168 - val_mean_absolute_error: 0.1036\n",
      "Epoch 10/15\n",
      "529/731 [====================>.........] - ETA: 3s - loss: 0.0159 - mean_absolute_error: 0.0997"
     ]
    }
   ],
   "source": [
    "# fit network\n",
    "model_fit = model.fit(X_train, y_train, epochs=15, batch_size=48, validation_data=(X_test, y_test)) "
   ]
  },
  {
   "cell_type": "code",
   "execution_count": null,
   "id": "b6f47328-c79b-4a50-997e-053909474161",
   "metadata": {},
   "outputs": [],
   "source": [
    "model.save('lstm_model_final_20230314.keras', overwrite=False, save_format='keras') # save model "
   ]
  },
  {
   "cell_type": "markdown",
   "id": "b2a32eaa-59b9-42b0-866a-f65a11438449",
   "metadata": {},
   "source": [
    "<h2>Test und Analyse</h2>\n",
    "<p>Im Rahmen der Forschungsfrage 1 werden die Parameter für das Modell optimiert. Folgende Parameter werden im Trainingsprozess experimentell angepasst: Lag-Wert, Anzahl der LSTM-Layer, Neuronen im LSTM-Layer, Lernrate, Anzahl der Epochen, Batch-Größe, Rate des Dropouts. Die Ergebnisse werden in einem Testplan dokumentiert und im Anschluss ausgewertet.</p>"
   ]
  },
  {
   "cell_type": "code",
   "execution_count": null,
   "id": "46f9cb32-d347-4a0a-a7f1-528a06bab273",
   "metadata": {},
   "outputs": [],
   "source": [
    "# evaluate the model\n",
    "# compare test and trainings loss\n",
    "plt.figure(figsize=(13,4))\n",
    "plt.plot(model_fit.history['loss'], label='Train Loss', color='C1')\n",
    "plt.plot(model_fit.history['val_loss'], label='Val Loss', color='C3')\n",
    "plt.title('Model loss LSTM', size=11, fontname='Arial')\n",
    "plt.ylabel('Loss', size=11, fontname='Arial')\n",
    "plt.xlabel('Anzahl Epochen', size=11, fontname='Arial')\n",
    "plt.yticks(fontname = 'Arial', fontsize=11)\n",
    "plt.xticks(fontname = 'Arial', fontsize=11)\n",
    "plt.legend(loc='upper right')\n",
    "plt.grid(axis='both', which='major', linestyle='--')\n",
    "plt.show()"
   ]
  },
  {
   "cell_type": "markdown",
   "id": "a990b292-4ddc-47ef-aad2-65efdd454fac",
   "metadata": {},
   "source": [
    "<h3>Evaluation</h3>"
   ]
  },
  {
   "cell_type": "code",
   "execution_count": null,
   "id": "1bff60ea-c599-4527-92f8-a300bc2f05bc",
   "metadata": {},
   "outputs": [],
   "source": [
    "# make a prediction\n",
    "ypred = model.predict(X_test)"
   ]
  },
  {
   "cell_type": "code",
   "execution_count": null,
   "id": "82d48ac3-e775-4325-9aab-666a08852369",
   "metadata": {},
   "outputs": [],
   "source": [
    "X_test_m1 = X_test.reshape((X_test.shape[0], n_hours*n_features))"
   ]
  },
  {
   "cell_type": "code",
   "execution_count": null,
   "id": "9434220b-62c1-40a9-8a4f-de857882bcab",
   "metadata": {},
   "outputs": [],
   "source": [
    "# invert scaling for forecast\n",
    "inv_ypred = concatenate((ypred, X_test_m1[:, -3:]), axis=1)\n",
    "inv_ypred = scaler.inverse_transform(inv_ypred)\n",
    "inv_ypred = inv_ypred[:,0]"
   ]
  },
  {
   "cell_type": "code",
   "execution_count": null,
   "id": "0a27162b-4ca1-468c-a4f4-aeb9bdc49075",
   "metadata": {},
   "outputs": [],
   "source": [
    "# invert scaling for actual\n",
    "y_test_m1 = y_test.reshape((len(y_test), 1))\n",
    "inv_yact = concatenate((y_test_m1, X_test_m1[:, -3:]), axis=1)\n",
    "inv_yact = scaler.inverse_transform(inv_yact)\n",
    "inv_yact = inv_yact[:,0]"
   ]
  },
  {
   "cell_type": "code",
   "execution_count": null,
   "id": "aea559c0-a551-4cd4-98c4-30522000b862",
   "metadata": {},
   "outputs": [],
   "source": [
    "# Graph for prediction vs actual\n",
    "prediction_range = 24*30\n",
    "\n",
    "aq=[x for x in range(prediction_range)]\n",
    "plt.figure(figsize=(15,5))\n",
    "plt.plot(aq, test[:prediction_range].Anzahl, marker='.', label='Tatsächlich', color='C1')\n",
    "plt.plot(aq, inv_ypred[:prediction_range], label='Prognose LSTM', color='C3')\n",
    "plt.ylabel('Absolutes Einsatzfahrtaufkommen', size=11)\n",
    "plt.xlabel('Zeitpunkte im Verlauf', size=11)\n",
    "plt.yticks(fontname = 'Arial', fontsize=11)\n",
    "plt.xticks(fontname = 'Arial', fontsize=11)\n",
    "plt.legend(fontsize=11)\n",
    "plt.savefig('Prognosemodell_Vorhersage_final_20230314.png')\n",
    "plt.show();"
   ]
  },
  {
   "cell_type": "code",
   "execution_count": null,
   "id": "8687e2b8-691c-4a34-8383-a6724ec5802c",
   "metadata": {},
   "outputs": [],
   "source": [
    "# Predictions vs. Actual\n",
    "train_results = pd.DataFrame(data={'Actuals':inv_yact, 'Train Predictions':inv_ypred})\n",
    "train_results"
   ]
  },
  {
   "cell_type": "code",
   "execution_count": null,
   "id": "aaa0bc97-da79-4abe-b6f1-4f7831fc296b",
   "metadata": {},
   "outputs": [],
   "source": [
    "# evaluate metrics\n",
    "pd.options.display.float_format = '{:.3f}'.format # suppress scientific notation by setting float_format\n",
    "\n",
    "# Model Evaluation\n",
    "rmse_lstm = sqrt(mean_squared_error(inv_yact, inv_ypred))\n",
    "mse_lstm = mean_squared_error(inv_yact, inv_ypred)\n",
    "mae_lstm = mean_absolute_error(inv_yact, inv_ypred)\n",
    "\n",
    "eval_lstm = {'LSTM-Modell' : [rmse_lstm, mse_lstm, mae_lstm]}\n",
    "\n",
    "eval_lstm_df = pd.DataFrame(eval_lstm, columns = ['LSTM-Modell'], index=['RMSE', 'MSE','MAE'])\n",
    "eval_lstm_df"
   ]
  },
  {
   "cell_type": "markdown",
   "id": "e3229829-cc75-48e0-942a-9252a1613a1f",
   "metadata": {},
   "source": [
    "<h3>Identifizierung von Einsatzspitzen</h3>"
   ]
  },
  {
   "cell_type": "code",
   "execution_count": null,
   "id": "89791507-0016-40a6-b5c2-807d5270a68d",
   "metadata": {},
   "outputs": [],
   "source": [
    "# predictions on train data\n",
    "X_train_pred = model.predict(X_train)"
   ]
  },
  {
   "cell_type": "code",
   "execution_count": null,
   "id": "65799830-3a36-47db-b822-26477a05a04c",
   "metadata": {},
   "outputs": [],
   "source": [
    "# Reshape X_train to match X_prediction's shape\n",
    "X_train_reshaped = X_train.reshape((X_train.shape[0], n_hours * n_features))\n",
    "\n",
    "# Calculate MAE loss for each example\n",
    "train_mae_loss = np.mean(np.abs(X_train_reshaped - X_train_pred), axis=1)\n",
    "\n",
    "# Plot a histogram for the MAE loss\n",
    "plt.figure(figsize=(13,5))\n",
    "plt.hist(train_mae_loss, bins=50, color='C4', alpha=0.7)\n",
    "plt.ylabel('Häufigkeit', size=11, fontname = 'Arial')\n",
    "plt.xlabel('MAE Loss der Trainingsdaten', size=11, fontname = 'Arial')\n",
    "plt.yticks(fontname = 'Arial', fontsize=11)\n",
    "plt.xticks(fontname = 'Arial', fontsize=11)\n",
    "plt.savefig('Häufigkeitsverteilung_Trainingsloss_MAE.png')\n",
    "plt.show()"
   ]
  },
  {
   "cell_type": "markdown",
   "id": "192276fa-dec7-435b-81b4-d5275280b067",
   "metadata": {},
   "source": [
    "<h3>Testdaten einfügen</h3>"
   ]
  },
  {
   "cell_type": "code",
   "execution_count": null,
   "id": "674a27ff-c18f-4f34-ba03-7b10f65be824",
   "metadata": {},
   "outputs": [],
   "source": [
    "td = pd.read_csv('Testdatensatz_Anomalien.csv', decimal=',', sep=';') # load dataset with manually set outliers\n",
    "td.head()"
   ]
  },
  {
   "cell_type": "code",
   "execution_count": null,
   "id": "1b0ce4be-1e70-4a44-9702-932c5d9576c2",
   "metadata": {},
   "outputs": [],
   "source": [
    "td['ZEIT'] = pd.to_datetime(td['ZEIT']) \n",
    "td = td.loc[(td['ZEIT'] < '2023-05-04 00:00:00')] \n",
    "td = td.set_index('ZEIT') # set timestamps as index"
   ]
  },
  {
   "cell_type": "code",
   "execution_count": null,
   "id": "07370223-39bb-4db0-be69-b71d128fac4a",
   "metadata": {},
   "outputs": [],
   "source": [
    "td.describe()"
   ]
  },
  {
   "cell_type": "code",
   "execution_count": null,
   "id": "906aa51f-53ee-4487-8118-23bc06db1bcc",
   "metadata": {},
   "outputs": [],
   "source": [
    "# Transform data \n",
    "td = td.drop(columns=['b_Feiertag']) # columns will not be used in model\n",
    "td = td.reindex(columns=['Anzahl', 'STUNDE', 'WOCHENTAG', 'MONAT'])\n",
    "\n",
    "# normalize data\n",
    "scaler = MinMaxScaler()\n",
    "scaler = scaler.fit(td)\n",
    "\n",
    "td_scaled = scaler.transform(td)\n",
    "\n",
    "# frame as supervised learning\n",
    "n_hours = 12 # hours to look back to convert series to supervised learning (sliding window)\n",
    "n_features = 4\n",
    "\n",
    "td_reframed = series_to_supervised(data=td_scaled, n_in=n_hours, n_out=1) \n",
    "\n",
    "# split dataframe\n",
    "td_reframed_v = td_reframed.values\n",
    "\n",
    "# split into input and outputs\n",
    "n_obs = n_hours * n_features\n",
    "X_test_td, y_test_td = td_reframed_v[:, :n_obs], td_reframed_v[:, -n_features]\n",
    "\n",
    "# reshape input to be 3D [samples, timesteps, features]\n",
    "X_test_td = X_test_td.reshape((X_test_td.shape[0], n_hours, n_features))\n",
    "print(X_test_td.shape, y_test_td.shape)"
   ]
  },
  {
   "cell_type": "code",
   "execution_count": null,
   "id": "936c3885-a823-4638-8836-0e328467d7df",
   "metadata": {},
   "outputs": [],
   "source": [
    "# prediction on test data\n",
    "X_test_pred = model.predict(X_test_td)"
   ]
  },
  {
   "cell_type": "code",
   "execution_count": null,
   "id": "bef4dcdc-2bc3-48a0-b4e1-2cdfd7aa17cf",
   "metadata": {},
   "outputs": [],
   "source": [
    "# define function for euclidean distance\n",
    "def euclidean_distance(x, y):\n",
    "    return np.linalg.norm(x-y)"
   ]
  },
  {
   "cell_type": "code",
   "execution_count": null,
   "id": "81a50553-54d5-489c-ba07-7846e89acf13",
   "metadata": {},
   "outputs": [],
   "source": [
    "distances = [euclidean_distance(X_test_pred, y_test_td[i]) for i, prediction in enumerate(X_test_pred)] # calculate"
   ]
  },
  {
   "cell_type": "code",
   "execution_count": null,
   "id": "9147b9a0-320d-439e-bdae-c0277d6222ae",
   "metadata": {},
   "outputs": [],
   "source": [
    "# Plot a histogram for the MAE loss\n",
    "plt.figure(figsize=(13,4))\n",
    "plt.hist(distances, bins=50, color='C1', alpha=0.7)\n",
    "plt.ylabel('Häufigkeit', size=12, fontname = 'Arial')\n",
    "plt.xlabel('Distanzmetrik', size=12, fontname = 'Arial')\n",
    "plt.yticks(fontname = 'Arial', fontsize=12)\n",
    "plt.xticks(fontname = 'Arial', fontsize=12)\n",
    "plt.show()"
   ]
  },
  {
   "cell_type": "code",
   "execution_count": null,
   "id": "08248a6f-6e57-4bd7-bf90-5032e6719697",
   "metadata": {},
   "outputs": [],
   "source": [
    "# set threshold for anomaly detection\n",
    "threshold = 3\n",
    "print(f'Threshold: {threshold}')"
   ]
  },
  {
   "cell_type": "code",
   "execution_count": null,
   "id": "1d006f64-0c4b-45eb-a88c-27f846919c0f",
   "metadata": {},
   "outputs": [],
   "source": [
    "test_score_df = pd.DataFrame(index=td[n_hours:].index)\n",
    "test_score_df['euclidean_distance'] = distances\n",
    "test_score_df['threshold'] = threshold\n",
    "test_score_df['anomaly'] = test_score_df.euclidean_distance > test_score_df.threshold\n",
    "test_score_df['Anzahl'] = td[n_hours:].Anzahl"
   ]
  },
  {
   "cell_type": "code",
   "execution_count": null,
   "id": "cb02ad1e-2117-4ae5-b882-6ca0d6c6dd0d",
   "metadata": {},
   "outputs": [],
   "source": [
    "plt.figure(figsize=(13,5))\n",
    "plt.plot(test_score_df.index, test_score_df.euclidean_distance, label='Euklidische Distanz', color = 'hotpink')\n",
    "plt.plot(test_score_df.index, test_score_df.threshold, label='Schwellenwert', color = 'C4')\n",
    "plt.xticks()\n",
    "plt.ylabel('Euklidische Distanz', size=11, fontname = 'Arial')\n",
    "plt.yticks(fontname = 'Arial', fontsize=11)\n",
    "plt.xticks(fontname = 'Arial', fontsize=11, rotation=25)\n",
    "plt.legend()\n",
    "plt.savefig('Euklidische_Distanz_mit_Schwellenwert.png')\n",
    "plt.show()"
   ]
  },
  {
   "cell_type": "code",
   "execution_count": null,
   "id": "ef73684e-5d83-46c1-80c7-5b49d260c443",
   "metadata": {},
   "outputs": [],
   "source": [
    "# table of anomalies\n",
    "anomalies = test_score_df[test_score_df.anomaly == True]\n",
    "anomalies"
   ]
  },
  {
   "cell_type": "code",
   "execution_count": null,
   "id": "892300cf-3df5-4d7d-95de-c83ad4a21505",
   "metadata": {},
   "outputs": [],
   "source": [
    "# transform timeseries for plotting\n",
    "ts = td[n_hours:-1].index\n",
    "ts = np.asarray(ts).reshape(-1, 1)\n",
    "ts.shape"
   ]
  },
  {
   "cell_type": "code",
   "execution_count": null,
   "id": "1ee07e34-3a41-4e4b-8bd6-8bcdc09c9222",
   "metadata": {},
   "outputs": [],
   "source": [
    "plt.figure(figsize=(20,5))\n",
    "plt.plot(ts, td[n_hours:-1].Anzahl, label='Fahrten', color='C1')\n",
    "plt.scatter(x=anomalies.index, y=anomalies.Anzahl, label='Anomalien', color='C3', zorder=5)\n",
    "plt.ylabel('Einsatzfahrtaufkommen', size=11, fontname='Arial')\n",
    "plt.xlabel('Zeitreihe', size=11, fontname='Arial')\n",
    "plt.yticks(fontname = 'Arial', fontsize=11)\n",
    "plt.xticks(fontname = 'Arial', fontsize=11)\n",
    "plt.legend(loc='upper right')\n",
    "plt.grid(axis='both', which='major', linestyle='--')\n",
    "plt.savefig('Anomalien_Erkennung.png')\n",
    "plt.show()"
   ]
  }
 ],
 "metadata": {
  "kernelspec": {
   "display_name": "Python 3 (ipykernel)",
   "language": "python",
   "name": "python3"
  },
  "language_info": {
   "codemirror_mode": {
    "name": "ipython",
    "version": 3
   },
   "file_extension": ".py",
   "mimetype": "text/x-python",
   "name": "python",
   "nbconvert_exporter": "python",
   "pygments_lexer": "ipython3",
   "version": "3.11.5"
  }
 },
 "nbformat": 4,
 "nbformat_minor": 5
}
